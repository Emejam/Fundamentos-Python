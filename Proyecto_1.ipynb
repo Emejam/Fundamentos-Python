{
  "nbformat": 4,
  "nbformat_minor": 0,
  "metadata": {
    "colab": {
      "provenance": [],
      "authorship_tag": "ABX9TyOzRIcyOMAPn57YFx0h43zp",
      "include_colab_link": true
    },
    "kernelspec": {
      "name": "python3",
      "display_name": "Python 3"
    },
    "language_info": {
      "name": "python"
    }
  },
  "cells": [
    {
      "cell_type": "markdown",
      "metadata": {
        "id": "view-in-github",
        "colab_type": "text"
      },
      "source": [
        "<a href=\"https://colab.research.google.com/github/Emejam/Fundamentos-Python/blob/main/Proyecto_1.ipynb\" target=\"_parent\"><img src=\"https://colab.research.google.com/assets/colab-badge.svg\" alt=\"Open In Colab\"/></a>"
      ]
    },
    {
      "cell_type": "code",
      "execution_count": null,
      "metadata": {
        "id": "SNvDm3XvS8mC"
      },
      "outputs": [],
      "source": []
    },
    {
      "cell_type": "markdown",
      "source": [
        "Proyecto Num.1"
      ],
      "metadata": {
        "id": "6IpOGkUWTWYx"
      }
    },
    {
      "cell_type": "code",
      "source": [
        "#Crear un programa que pida al usuario su nombre, apellido paterno, apellido materno, edad, peso y estatura, desplegarlos en pantalla junto\n",
        "#con su Índice de Masa Corporal (IMC).\n",
        "\n",
        "#El programa no puede permitir que ningún dato quede vacío, además de asegurarse de que en los campos de edad,\n",
        "#peso y estatura el usuario introduzca una cifra. Todo esto antes de proceder con el cálculo del IMC siguiendo la fórmula:\n",
        "\n",
        "\n"
      ],
      "metadata": {
        "id": "fOANFoslTeMM"
      },
      "execution_count": null,
      "outputs": []
    },
    {
      "cell_type": "code",
      "source": [
        "print (\"\"\"                                      ¡Bienvenido!\n",
        "\n",
        "            En el siguiente apartado podras conocer tu IMC (Indice de masa corporal)\n",
        "\n",
        "                  Asegurate de llenar correctamente los datos que te solicitan. \"\"\")"
      ],
      "metadata": {
        "colab": {
          "base_uri": "https://localhost:8080/"
        },
        "id": "ufjTNzg1T9Lt",
        "outputId": "98ad25fb-a91a-4eb8-dea5-d5c66c030594"
      },
      "execution_count": 5,
      "outputs": [
        {
          "output_type": "stream",
          "name": "stdout",
          "text": [
            "                                      ¡Bienvenido! \n",
            "\n",
            "            En el siguiente apartado podras conocer tu IMC (Indice de masa corporal)\n",
            "                            \n",
            "                  Asegurate de llenar correctamente los datos que te solicitan. \n"
          ]
        }
      ]
    },
    {
      "cell_type": "code",
      "source": [
        "nombre = input (\"Gracias por poner atencion a tu salud, porfavor introdice tu nombre completo: \") .strip()"
      ],
      "metadata": {
        "id": "kfrWeAVkWhF5"
      },
      "execution_count": null,
      "outputs": []
    },
    {
      "cell_type": "code",
      "source": [
        "print (nombre)"
      ],
      "metadata": {
        "colab": {
          "base_uri": "https://localhost:8080/"
        },
        "id": "C9uNei35YMJB",
        "outputId": "8be61b0d-b9f9-45ac-cbb8-8e1867f20d77"
      },
      "execution_count": 13,
      "outputs": [
        {
          "output_type": "stream",
          "name": "stdout",
          "text": [
            "Maximiliano Ramirez Ramirez\n"
          ]
        }
      ]
    },
    {
      "cell_type": "code",
      "source": [
        "def obtener_datos (mensaje, mensaje_while):\n",
        "  dato = input (mensaje).strip()\n",
        "  while dato == \"\":\n",
        "    dato = input (mensaje_while).strip()\n",
        "    return dato"
      ],
      "metadata": {
        "id": "IKxX7jOEZgS7"
      },
      "execution_count": 19,
      "outputs": []
    },
    {
      "cell_type": "code",
      "source": [
        "nombre = obtener_datos(\"Nombre: \", \"Informacion no valida, intenta denuevo: \")"
      ],
      "metadata": {
        "colab": {
          "base_uri": "https://localhost:8080/"
        },
        "id": "j3xit4QRbj-w",
        "outputId": "315521a6-4037-4f61-cfeb-83693ff8a4ca"
      },
      "execution_count": 25,
      "outputs": [
        {
          "name": "stdout",
          "output_type": "stream",
          "text": [
            "Nombre: i\n"
          ]
        }
      ]
    }
  ]
}